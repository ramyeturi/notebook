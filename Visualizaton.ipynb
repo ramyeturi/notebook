import seaborn as sns
import matplotlib.pyplot as plt

# Boxplot to visualize differences in sales across merchandising strategies
plt.figure(figsize=(12, 6))
sns.boxplot(data=anova_data_melted, x='merchandising_type', y='merchandising_sales', palette='Set2')
plt.title('Unit Sales Across Merchandising Strategies', fontsize=14)
plt.xlabel('Merchandising Strategy', fontsize=12)
plt.ylabel('Unit Sales', fontsize=12)
plt.xticks(rotation=45, ha='right', fontsize=10)
plt.grid(axis='y', linestyle='--', alpha=0.7)
plt.tight_layout()
plt.show()


# Calculate average sales by merchandising type
average_sales = anova_data_melted.groupby('merchandising_type')['merchandising_sales'].mean().sort_values()

# Bar chart for average sales
plt.figure(figsize=(10, 6))
average_sales.plot(kind='bar', color='skyblue', edgecolor='black')
plt.title('Average Unit Sales by Merchandising Strategy', fontsize=14)
plt.xlabel('Merchandising Strategy', fontsize=12)
plt.ylabel('Average Unit Sales', fontsize=12)
plt.xticks(rotation=45, ha='right', fontsize=10)
plt.grid(axis='y', linestyle='--', alpha=0.7)
plt.tight_layout()
plt.show()


Step 4:

import matplotlib.pyplot as plt

# Extract coefficients and sort by impact
coefficients = model.params.drop('const').sort_values()
coefficients.plot(kind='barh', color='skyblue', edgecolor='black', figsize=(10, 6))
plt.title('Regression Coefficients for Unit Sales', fontsize=14)
plt.xlabel('Coefficient Value', fontsize=12)
plt.ylabel('Independent Variables', fontsize=12)
plt.grid(axis='x', linestyle='--', alpha=0.7)
plt.tight_layout()
plt.show()


import seaborn as sns

# Pairplot for key relationships
sns.pairplot(data=regression_data, vars=['Unit Sales', 'Unit Sales Any Merch', 'Unit Sales Feature and Display'])
plt.suptitle('Pairwise Relationships for Key Drivers', fontsize=14)
plt.tight_layout()
plt.show()


Step 5:

import matplotlib.pyplot as plt
import pandas as pd

# Coefficients from the model
coefficients = {
    'Unit Sales Any Merch': -0.3010,
    'Unit Sales Price Reductions Only': 3.9579,
    'Unit Sales Feature Only': 4.0858,
    'Unit Sales Display Only': 11.888,
    'ACV Weighted Distribution': 849.42
}

# Create a DataFrame for easy plotting
coef_df = pd.DataFrame(coefficients.values(), index=coefficients.keys(), columns=['Coefficient'])

# Plot the coefficients
plt.figure(figsize=(10, 6))
coef_df['Coefficient'].plot(kind='barh', color='skyblue', edgecolor='black')
plt.title('Impact of Factors on Dollar Sales (Fixed Effects Model)', fontsize=14)
plt.xlabel('Coefficient Value', fontsize=12)
plt.ylabel('Factors', fontsize=12)
plt.grid(axis='x', linestyle='--', alpha=0.7)
plt.tight_layout()
plt.show()


# Add predicted values to the dataset
regression_data['Predicted Sales'] = fixed_effects_results.fitted_values

# Scatter plot for actual vs predicted sales
plt.figure(figsize=(8, 6))
plt.scatter(regression_data['Dollar Sales'], regression_data['Predicted Sales'], alpha=0.5, color='blue')
plt.title('Actual vs. Predicted Dollar Sales', fontsize=14)
plt.xlabel('Actual Dollar Sales', fontsize=12)
plt.ylabel('Predicted Dollar Sales', fontsize=12)
plt.grid(alpha=0.3)
plt.tight_layout()
plt.show()

# Random Effects model

import matplotlib.pyplot as plt
import pandas as pd

# Coefficients from both models
coefficients_fixed = {
    'Unit Sales Any Merch': -0.3010,
    'Unit Sales Price Reductions Only': 3.9579,
    'Unit Sales Feature Only': 4.0858,
    'Unit Sales Display Only': 11.888,
    'ACV Weighted Distribution': 849.42
}

coefficients_random = {
    'Unit Sales Any Merch': 3.8041,
    'Unit Sales Price Reductions Only': -0.0418,
    'Unit Sales Feature Only': 0.0249,
    'Unit Sales Display Only': 8.0114,
    'Unit Sales Feature and Display': -4.1904,
    'ACV Weighted Distribution': 859.89
}

# Create a DataFrame for comparison
df_coefficients = pd.DataFrame({'Fixed Effects': coefficients_fixed, 'Random Effects': coefficients_random}).T

# Plot the coefficients
df_coefficients.plot(kind='bar', figsize=(12, 6), color=['skyblue', 'salmon'], edgecolor='black')
plt.title('Comparison of Coefficients: Fixed vs. Random Effects', fontsize=14)
plt.xlabel('Variables', fontsize=12)
plt.ylabel('Coefficient Value', fontsize=12)
plt.xticks(rotation=45, ha='right', fontsize=10)
plt.legend(title='Model Type')
plt.grid(axis='y', linestyle='--', alpha=0.7)
plt.tight_layout()
plt.show()


import matplotlib.pyplot as plt
import pandas as pd

def plot_coefficients(option='both'):
    """
    Function to plot coefficients for Fixed Effects, Random Effects, or Both.
    
    Parameters:
    option (str): 'fixed', 'random', or 'both' to select which coefficients to plot.
    """
    coefficients_fixed = {
        'Unit Sales Any Merch': -0.3010,
        'Unit Sales Price Reductions Only': 3.9579,
        'Unit Sales Feature Only': 4.0858,
        'Unit Sales Display Only': 11.888,
        'ACV Weighted Distribution': 849.42
    }

    coefficients_random = {
        'Unit Sales Any Merch': 3.8041,
        'Unit Sales Price Reductions Only': -0.0418,
        'Unit Sales Feature Only': 0.0249,
        'Unit Sales Display Only': 8.0114,
        'Unit Sales Feature and Display': -4.1904,
        'ACV Weighted Distribution': 859.89
    }

    # Create DataFrames for plotting
    df_fixed = pd.DataFrame({'Fixed Effects': coefficients_fixed})
    df_random = pd.DataFrame({'Random Effects': coefficients_random})

    # Combine both for comparison
    df_combined = pd.concat([df_fixed, df_random], axis=1).dropna()

    if option == 'fixed':
        df_fixed.plot(kind='bar', figsize=(12, 6), color=['skyblue'], edgecolor='black')
        plt.title('Fixed Effects Coefficients', fontsize=14)
        plt.ylabel('Coefficient Value', fontsize=12)
        plt.xticks(rotation=45, ha='right', fontsize=10)
        plt.grid(axis='y', linestyle='--', alpha=0.7)
        plt.tight_layout()
        plt.show()

    elif option == 'random':
        df_random.plot(kind='bar', figsize=(12, 6), color=['salmon'], edgecolor='black')
        plt.title('Random Effects Coefficients', fontsize=14)
        plt.ylabel('Coefficient Value', fontsize=12)
        plt.xticks(rotation=45, ha='right', fontsize=10)
        plt.grid(axis='y', linestyle='--', alpha=0.7)
        plt.tight_layout()
        plt.show()

    elif option == 'both':
        df_combined.plot(kind='bar', figsize=(12, 6), color=['skyblue', 'salmon'], edgecolor='black')
        plt.title('Comparison of Coefficients: Fixed vs. Random Effects', fontsize=14)
        plt.ylabel('Coefficient Value', fontsize=12)
        plt.xticks(rotation=45, ha='right', fontsize=10)
        plt.legend(title='Model Type')
        plt.grid(axis='y', linestyle='--', alpha=0.7)
        plt.tight_layout()
        plt.show()
    else:
        print("Invalid option. Choose 'fixed', 'random', or 'both'.")

# Example usage: Uncomment one line below to test different options
# plot_coefficients(option='fixed')
# plot_coefficients(option='random')
plot_coefficients(option='both')
