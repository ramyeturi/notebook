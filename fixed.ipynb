import pandas as pd
import statsmodels.api as sm
from linearmodels.panel import PanelOLS, RandomEffects

# Load the dataset (replace 'file.csv' with your actual file path)
data = pd.read_csv("file.csv")

# Convert the dataset into a panel data format
# Ensure 'Geography', 'Time', and 'Product' form the panel structure
data['Time'] = pd.to_datetime(data['Time'])  # Ensure time is datetime format
data = data.set_index(['Geography', 'Time', 'Product'])  # Set panel index

# Specify the dependent and independent variables
dependent_var = 'Dollar Sales'  # Replace with your target variable
independent_vars = [
    'Unit Sales Any Merch',
    'Unit Sales Price Reductions Only',
    'Unit Sales Feature Only',
    'Unit Sales Display Only',
    'Unit Sales Special Pack Only',
    'Unit Sales Feature and Display',
    'ACV Weighted Distribution'
]

# Add a constant term to the independent variables
X = sm.add_constant(data[independent_vars])
y = data[dependent_var]

# ------------------- Fixed Effects Model -------------------
# Using PanelOLS for fixed effects
fixed_effects_model = PanelOLS(
    y,  # Dependent variable
    X,  # Independent variables
    entity_effects=True  # Fixed effects by entity (Geography, Product in this case)
)

# Fit the fixed effects model
fixed_effects_results = fixed_effects_model.fit()

# Print the summary
print("Fixed Effects Model Results")
print(fixed_effects_results.summary)

# ------------------- Random Effects Model -------------------
# Using RandomEffects for random effects
random_effects_model = RandomEffects(
    y,  # Dependent variable
    X   # Independent variables
)

# Fit the random effects model
random_effects_results = random_effects_model.fit()

# Print the summary
print("Random Effects Model Results")
print(random_effects_results.summary)

# ------------------- Hausman Test -------------------
# To compare fixed and random effects, we perform a Hausman test
from scipy.stats import chi2

# Calculate the difference in coefficients
beta_diff = fixed_effects_results.params - random_effects_results.params

# Calculate the variance of the difference
cov_diff = fixed_effects_results.cov - random_effects_results.cov
hausman_stat = beta_diff.T @ pd.DataFrame(cov_diff).values @ beta_diff

# Degrees of freedom
df = len(beta_diff)

# Hausman test p-value
p_value = 1 - chi2.cdf(hausman_stat, df)

print("Hausman Test Statistic:", hausman_stat)
print("P-value:", p_value)

# Decision based on Hausman test
if p_value < 0.05:
    print("Fixed effects model is preferred.")
else:
    print("Random effects model is preferred.")
