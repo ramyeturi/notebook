# Step 6: Panel Data Analysis

import statsmodels.formula.api as plm
from linearmodels.panel import PanelOLS, RandomEffects

# Prepare the data for panel analysis
# We need to make sure the data has an identifier for products and time for panel analysis
data['time'] = data['time'].dt.to_period('W')
data.reset_index(inplace=True)
data['product_id'] = data.index  # Assuming each product has a unique identifier

# Set the index for panel data
panel_data = data.set_index(['product_id', 'time'])

# Fixed Effects Model
try:
    fixed_effects_model = PanelOLS.from_formula(
        'unit_sales ~ unit_sales_no_merch + unit_sales_any_merch + unit_sales_price_reductions_only +
        unit_sales_feature_only + unit_sales_display_only + unit_sales_special_pack_only +
        unit_sales_feature_and_display + acv_weighted_distribution + acv_weighted_distribution_no_merch +
        acv_weighted_distribution_any_merch + acv_weighted_distribution_price_reductions_only +
        acv_weighted_distribution_feature_only + acv_weighted_distribution_display_only +
        acv_weighted_distribution_special_pack_only + acv_weighted_distribution_feature_and_display + EntityEffects',
        data=panel_data).fit()
    print("Fixed Effects Model Summary:")
    print(fixed_effects_model.summary)
except Exception as e:
    print("Error in Fixed Effects Model:", e)

# Random Effects Model
try:
    random_effects_model = RandomEffects.from_formula(
        'unit_sales ~ unit_sales_no_merch + unit_sales_any_merch + unit_sales_price_reductions_only +
        unit_sales_feature_only + unit_sales_display_only + unit_sales_special_pack_only +
        unit_sales_feature_and_display + acv_weighted_distribution + acv_weighted_distribution_no_merch +
        acv_weighted_distribution_any_merch + acv_weighted_distribution_price_reductions_only +
        acv_weighted_distribution_feature_only + acv_weighted_distribution_display_only +
        acv_weighted_distribution_special_pack_only + acv_weighted_distribution_feature_and_display',
        data=panel_data).fit()
    print("Random Effects Model Summary:")
    print(random_effects_model.summary)
except Exception as e:
    print("Error in Random Effects Model:", e)

# Save panel data model summaries to text files
with open('fixed_effects_model_summary.txt', 'w') as f:
    if 'fixed_effects_model' in locals():
        f.write(fixed_effects_model.summary.as_text())
    else:
        f.write("Fixed Effects Model encountered an error.")

with open('random_effects_model_summary.txt', 'w') as f:
    if 'random_effects_model' in locals():
        f.write(random_effects_model.summary.as_text())
    else:
        f.write("Random Effects Model encountered an error.")
