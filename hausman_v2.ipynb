def hausman_test(fixed_results, random_results):
    """
    Perform Hausman Test to compare Fixed and Random Effects Models.
    """
    b_fixed = fixed_results.params
    b_random = random_results.params
    v_fixed = fixed_results.cov
    v_random = random_results.cov

    # Drop any NaN or Inf values in parameters or covariance matrices
    b_fixed = b_fixed.dropna()
    b_random = b_random.dropna()

    # Align indices for covariance matrices
    common_idx = b_fixed.index.intersection(b_random.index)
    b_fixed = b_fixed.loc[common_idx]
    b_random = b_random.loc[common_idx]
    v_fixed = v_fixed.loc[common_idx, common_idx]
    v_random = v_random.loc[common_idx, common_idx]

    # Calculate the parameter difference
    diff = b_fixed - b_random

    # Calculate covariance difference
    cov_diff = v_fixed - v_random

    # Regularize covariance matrix for numerical stability
    if cov_diff.isnull().values.any() or cov_diff.isinf().values.any():
        raise ValueError("Covariance difference matrix contains NaN or Inf values.")

    cov_diff += np.eye(len(cov_diff)) * 1e-6

    try:
        inv_cov_diff = np.linalg.inv(cov_diff)  # Attempt inversion
    except np.linalg.LinAlgError:
        inv_cov_diff = np.linalg.pinv(cov_diff)  # Use pseudo-inverse as fallback

    # Compute the Hausman statistic
    hausman_stat = diff.T @ inv_cov_diff @ diff
    dof = len(diff)  # Degrees of freedom
    p_value = 1 - chi2.cdf(hausman_stat, dof)

    print("\nHausman Test Results:")
    print(f"Hausman Statistic: {hausman_stat}")
    print(f"Degrees of Freedom: {dof}")
    print(f"P-Value: {p_value}")

    if p_value < 0.05:
        print("Fixed effects model is preferred.")
    else:
        print("Random effects model is preferred.")

# Perform the Hausman Test
try:
    hausman_test(fixed_effects_results, random_effects_results)
except Exception as e:
    print(f"Hausman Test could not be performed: {e}")
